{
  "cells": [
    {
      "cell_type": "markdown",
      "metadata": {
        "id": "view-in-github",
        "colab_type": "text"
      },
      "source": [
        "<a href=\"https://colab.research.google.com/github/kitaezzzza/psfp5/blob/main/simple_1_(1).ipynb\" target=\"_parent\"><img src=\"https://colab.research.google.com/assets/colab-badge.svg\" alt=\"Open In Colab\"/></a>"
      ]
    },
    {
      "cell_type": "code",
      "execution_count": 4,
      "metadata": {
        "id": "vYuV45Bdg21b"
      },
      "outputs": [],
      "source": [
        "import numpy as np"
      ]
    },
    {
      "cell_type": "markdown",
      "metadata": {
        "id": "mgCgiMNKg21d"
      },
      "source": [
        "# Анализ данных с использованием библиотеки NumPy\n",
        "\n",
        "## Создание массивов\n",
        "1. Создайте одномерный массив из 10 случайных чисел.\n",
        "\n",
        "2. Создайте двумерный массив размером 3x3, содержащий случайные числа.\n",
        "\n",
        "3. Создайте массив с числами от 1 до 20 включительно с шагом 2.\n"
      ]
    },
    {
      "cell_type": "code",
      "execution_count": 18,
      "metadata": {
        "colab": {
          "base_uri": "https://localhost:8080/"
        },
        "id": "ZnIJkByog21f",
        "outputId": "a13a91c4-5f49-4107-d5f8-188478a96e4d"
      },
      "outputs": [
        {
          "output_type": "stream",
          "name": "stdout",
          "text": [
            "[[1 3 6 8 3 5 5 8 6 8]]\n"
          ]
        }
      ],
      "source": [
        "A = np.random.randint(0, 10, [1,10])\n",
        "print(A)"
      ]
    },
    {
      "cell_type": "code",
      "execution_count": 6,
      "metadata": {
        "colab": {
          "base_uri": "https://localhost:8080/"
        },
        "id": "GIJSC1MAg21f",
        "outputId": "918caaa7-bd44-4472-a88f-ebf1e941ab49"
      },
      "outputs": [
        {
          "output_type": "stream",
          "name": "stdout",
          "text": [
            "[[6 0 3]\n",
            " [2 7 6]\n",
            " [8 3 2]]\n"
          ]
        }
      ],
      "source": [
        "B = np.random.randint(0, 10,[3,3])\n",
        "print(B)"
      ]
    },
    {
      "cell_type": "code",
      "execution_count": 9,
      "metadata": {
        "colab": {
          "base_uri": "https://localhost:8080/"
        },
        "id": "Xzni1pSng21g",
        "outputId": "22b3419e-e91b-4fdd-e125-d78ba7e8f543"
      },
      "outputs": [
        {
          "output_type": "stream",
          "name": "stdout",
          "text": [
            "[ 0  2  4  6  8 10 12 14 16 18 20]\n"
          ]
        }
      ],
      "source": [
        "C = np.arange(0,21,2)\n",
        "print(C)"
      ]
    },
    {
      "cell_type": "markdown",
      "metadata": {
        "id": "bQY0lMjmg21g"
      },
      "source": [
        "\n",
        "## Информация о массиве\n",
        "4. Выведите форму (размер) массива из задачи 2, используя атрибут `shape`.\n",
        "\n",
        "5. Определите тип данных элементов массива из задачи 3, используя атрибут `dtype`.\n"
      ]
    },
    {
      "cell_type": "code",
      "execution_count": 10,
      "metadata": {
        "colab": {
          "base_uri": "https://localhost:8080/"
        },
        "id": "xmPTvWaTg21g",
        "outputId": "142cae83-4621-495f-c661-408157109856"
      },
      "outputs": [
        {
          "output_type": "execute_result",
          "data": {
            "text/plain": [
              "(3, 3)"
            ]
          },
          "metadata": {},
          "execution_count": 10
        }
      ],
      "source": [
        "U = np.shape(B)\n",
        "print(U)"
      ]
    },
    {
      "cell_type": "code",
      "execution_count": null,
      "metadata": {
        "id": "9CBc3TKTg21g"
      },
      "outputs": [],
      "source": []
    },
    {
      "cell_type": "markdown",
      "metadata": {
        "id": "XtUkM1oNg21g"
      },
      "source": [
        "\n",
        "## Операции с массивами\n",
        "6. Умножьте каждый элемент массива из задачи 1 на 3.\n",
        "\n",
        "7. Посчитайте сумму элементов массива из задачи 2 по каждой оси, используя функцию `np.sum()`.\n"
      ]
    },
    {
      "cell_type": "code",
      "execution_count": 19,
      "metadata": {
        "colab": {
          "base_uri": "https://localhost:8080/"
        },
        "id": "luPnNxVqg21g",
        "outputId": "e13d4d02-bdd1-4c67-e231-55d6b314af73"
      },
      "outputs": [
        {
          "output_type": "stream",
          "name": "stdout",
          "text": [
            "[[ 3  9 18 24  9 15 15 24 18 24]]\n"
          ]
        }
      ],
      "source": [
        "Y = A*3\n",
        "print(Y)"
      ]
    },
    {
      "cell_type": "code",
      "execution_count": 20,
      "metadata": {
        "colab": {
          "base_uri": "https://localhost:8080/"
        },
        "id": "ngSo8hvhg21g",
        "outputId": "67539256-a4e5-4617-cfaa-e0c7b85a0986"
      },
      "outputs": [
        {
          "output_type": "stream",
          "name": "stdout",
          "text": [
            "37\n"
          ]
        }
      ],
      "source": [
        "S = np.sum(B)\n",
        "print(S)"
      ]
    },
    {
      "cell_type": "markdown",
      "metadata": {
        "id": "uR9g-bVMg21g"
      },
      "source": [
        "\n",
        "## Индексация и срезы\n",
        "8. Получите элемент из середины массива из задачи 1.\n",
        "\n",
        "9. Выделите подматрицу размером 2x2 из массива задачи 2.\n"
      ]
    },
    {
      "cell_type": "code",
      "execution_count": 21,
      "metadata": {
        "colab": {
          "base_uri": "https://localhost:8080/"
        },
        "id": "j1R_61otg21h",
        "outputId": "5318ada1-f702-4959-b146-cc3d346723e3"
      },
      "outputs": [
        {
          "output_type": "stream",
          "name": "stdout",
          "text": [
            "5\n"
          ]
        }
      ],
      "source": [
        "m = A[0, A.shape[1] // 2]\n",
        "\n",
        "print(m)"
      ]
    },
    {
      "cell_type": "code",
      "source": [
        "\n"
      ],
      "metadata": {
        "id": "IZs98Yo9GCPq"
      },
      "execution_count": 21,
      "outputs": []
    },
    {
      "cell_type": "markdown",
      "metadata": {
        "id": "X-hTyjXrg21h"
      },
      "source": [
        "\n",
        "## Статистика и агрегация\n",
        "10. Найдите среднее значение всех элементов массива из задачи 1, используя функцию `np.mean()`.\n",
        "\n",
        "11. Найдите максимальное значение в каждой строке массива из задачи 2, используя функцию `np.max()`.\n"
      ]
    },
    {
      "cell_type": "code",
      "execution_count": 22,
      "metadata": {
        "colab": {
          "base_uri": "https://localhost:8080/"
        },
        "id": "IHPlzWU3g21h",
        "outputId": "881b5916-6768-43e5-f5ac-85ec320019c8"
      },
      "outputs": [
        {
          "output_type": "stream",
          "name": "stdout",
          "text": [
            "5.3\n"
          ]
        }
      ],
      "source": [
        "X = np.mean(A)\n",
        "print(X)"
      ]
    },
    {
      "cell_type": "code",
      "execution_count": 23,
      "metadata": {
        "colab": {
          "base_uri": "https://localhost:8080/"
        },
        "id": "T5Rjfy0Hg21h",
        "outputId": "113a40d9-2c77-429b-c023-96ad45c2fad6"
      },
      "outputs": [
        {
          "output_type": "stream",
          "name": "stdout",
          "text": [
            "8\n"
          ]
        }
      ],
      "source": [
        "Z = np.max(B)\n",
        "print(Z)"
      ]
    },
    {
      "cell_type": "markdown",
      "metadata": {
        "id": "x80f4Y10g21h"
      },
      "source": [
        "\n",
        "## Логические операции\n",
        "12. Создайте логический массив, проверяющий, какие элементы массива из задачи 1 больше 5.\n",
        "\n",
        "13. Получите только те элементы массива из задачи 3, которые делятся на 3 без остатка.\n"
      ]
    },
    {
      "cell_type": "code",
      "execution_count": 24,
      "metadata": {
        "colab": {
          "base_uri": "https://localhost:8080/"
        },
        "id": "-_8j7Rvhg21h",
        "outputId": "ff2be479-7753-495c-f3e2-731929a3c261"
      },
      "outputs": [
        {
          "output_type": "stream",
          "name": "stdout",
          "text": [
            "[[False False  True  True False False False  True  True  True]]\n"
          ]
        }
      ],
      "source": [
        "V = A>5\n",
        "print(V)"
      ]
    },
    {
      "cell_type": "code",
      "execution_count": 25,
      "metadata": {
        "colab": {
          "base_uri": "https://localhost:8080/"
        },
        "id": "ZupnEBCwg21h",
        "outputId": "71eb0de6-4c32-4d45-eb97-841c29348370"
      },
      "outputs": [
        {
          "output_type": "stream",
          "name": "stdout",
          "text": [
            "[0.         0.66666667 1.33333333 2.         2.66666667 3.33333333\n",
            " 4.         4.66666667 5.33333333 6.         6.66666667]\n"
          ]
        }
      ],
      "source": [
        "z = C/3\n",
        "print(z)"
      ]
    },
    {
      "cell_type": "markdown",
      "metadata": {
        "id": "9JWpuEq_g21i"
      },
      "source": [
        "\n",
        "## Работа с формой массива\n",
        "14. Преобразуйте одномерный массив из задачи 1 в двумерный массив размером 2x5, используя метод `reshape()`.\n",
        "\n",
        "15. Транспонируйте массив из задачи 2, используя метод `T`.\n"
      ]
    },
    {
      "cell_type": "code",
      "execution_count": 26,
      "metadata": {
        "colab": {
          "base_uri": "https://localhost:8080/"
        },
        "id": "Tk5uGRTrg21i",
        "outputId": "444f24b7-8f78-42ad-837e-1fd2486d28ac"
      },
      "outputs": [
        {
          "output_type": "stream",
          "name": "stdout",
          "text": [
            "[[1 3 6 8 3]\n",
            " [5 5 8 6 8]]\n"
          ]
        }
      ],
      "source": [
        "F = np.reshape(A,[2,5])\n",
        "print(F)"
      ]
    },
    {
      "cell_type": "code",
      "execution_count": null,
      "metadata": {
        "id": "3j_SLVEig21i"
      },
      "outputs": [],
      "source": []
    },
    {
      "cell_type": "markdown",
      "metadata": {
        "id": "--tftXYXg21i"
      },
      "source": [
        "\n",
        "## Сортировка и индексация\n",
        "16. Отсортируйте элементы массива из задачи 1 по убыванию, используя функцию `np.sort()`.\n",
        "\n",
        "17. Найдите индексы минимальных значений в каждом столбце массива из задачи 2, используя функцию `np.argmin()`.\n"
      ]
    },
    {
      "cell_type": "code",
      "execution_count": 29,
      "metadata": {
        "colab": {
          "base_uri": "https://localhost:8080/"
        },
        "id": "4ZuJ1o1Ig21i",
        "outputId": "a499cbe1-1c17-4308-c9cd-5c381b9e47a3"
      },
      "outputs": [
        {
          "output_type": "stream",
          "name": "stdout",
          "text": [
            "[[8 8 8 6 6 5 5 3 3 1]]\n"
          ]
        }
      ],
      "source": [
        "a = np.sort(-A)\n",
        "print(-a)"
      ]
    },
    {
      "cell_type": "code",
      "execution_count": 30,
      "metadata": {
        "colab": {
          "base_uri": "https://localhost:8080/"
        },
        "id": "b0kGtS0wg21i",
        "outputId": "19ab1e14-124b-45e0-8117-c3093a57f18a"
      },
      "outputs": [
        {
          "output_type": "stream",
          "name": "stdout",
          "text": [
            "1\n"
          ]
        }
      ],
      "source": [
        "b = np.argmin(B)\n",
        "print(b)"
      ]
    },
    {
      "cell_type": "markdown",
      "metadata": {
        "id": "BQkMpx3bg21i"
      },
      "source": [
        "\n",
        "## Уникальные значения\n",
        "18. Найдите уникальные значения в массиве из задачи 1, используя функцию `np.unique()`.\n",
        "\n",
        "19. Посчитайте количество повторяющихся элементов в массиве из задачи 3, используя функцию `np.bincount()`.\n"
      ]
    },
    {
      "cell_type": "code",
      "execution_count": 32,
      "metadata": {
        "colab": {
          "base_uri": "https://localhost:8080/"
        },
        "id": "JXkMnwG5g21i",
        "outputId": "c8dbaf5b-7442-44b7-ad11-91e903260afe"
      },
      "outputs": [
        {
          "output_type": "stream",
          "name": "stdout",
          "text": [
            "[1 3 5 6 8]\n"
          ]
        }
      ],
      "source": [
        "c = np.unique(A)\n",
        "print(c)"
      ]
    },
    {
      "cell_type": "code",
      "execution_count": 33,
      "metadata": {
        "colab": {
          "base_uri": "https://localhost:8080/"
        },
        "id": "rrGCb49kg21i",
        "outputId": "1ac20e44-da57-41ae-ede9-c7294e31cc35"
      },
      "outputs": [
        {
          "output_type": "stream",
          "name": "stdout",
          "text": [
            "[1 0 1 0 1 0 1 0 1 0 1 0 1 0 1 0 1 0 1 0 1]\n"
          ]
        }
      ],
      "source": [
        "d = np.bincount(C)\n",
        "print(d)"
      ]
    },
    {
      "cell_type": "markdown",
      "metadata": {
        "id": "KIyEI-kcg21i"
      },
      "source": [
        "\n",
        "## Линейная алгебра\n",
        "20. Выполните матричное умножение двух массивов размером 3x3 из задачи 2, используя функцию `np.dot()`.\n",
        "\n",
        "21. Решите систему линейных уравнений: `2x + y = 8` и `3x - y = 1`, используя функцию `np.linalg.solve()`.\n"
      ]
    },
    {
      "cell_type": "code",
      "execution_count": 35,
      "metadata": {
        "colab": {
          "base_uri": "https://localhost:8080/"
        },
        "id": "NrVrxp81g21i",
        "outputId": "cc969721-4abf-4029-fdc5-9e403021ea3f"
      },
      "outputs": [
        {
          "output_type": "stream",
          "name": "stdout",
          "text": [
            "[[60  9 24]\n",
            " [74 67 60]\n",
            " [70 27 46]]\n"
          ]
        }
      ],
      "source": [
        "h = np.dot(B,B)\n",
        "print(h)"
      ]
    },
    {
      "cell_type": "code",
      "execution_count": 42,
      "metadata": {
        "id": "rdfbiHnRg21i",
        "colab": {
          "base_uri": "https://localhost:8080/",
          "height": 140
        },
        "outputId": "7a9ec4a6-8f4b-47bf-b0b8-80ff3d23c34a"
      },
      "outputs": [
        {
          "output_type": "error",
          "ename": "SyntaxError",
          "evalue": "invalid decimal literal (<ipython-input-42-645af70a74b0>, line 1)",
          "traceback": [
            "\u001b[0;36m  File \u001b[0;32m\"<ipython-input-42-645af70a74b0>\"\u001b[0;36m, line \u001b[0;32m1\u001b[0m\n\u001b[0;31m    y = np.linalg.solve([2x + y = 8], [3x - y = 1])\u001b[0m\n\u001b[0m                         ^\u001b[0m\n\u001b[0;31mSyntaxError\u001b[0m\u001b[0;31m:\u001b[0m invalid decimal literal\n"
          ]
        }
      ],
      "source": [
        "y = np.linalg.solve([2x + y = 8], [3x - y = 1])\n",
        "print(y)"
      ]
    },
    {
      "cell_type": "markdown",
      "metadata": {
        "id": "GtG1p-89g21j"
      },
      "source": [
        "\n",
        "## Векторизация\n",
        "22. Создайте функцию, которая принимает на вход массив и возвращает новый массив, содержащий квадраты элементов входного массива.\n",
        "\n",
        "23. Примените функцию из задачи 22 к массиву из задачи 1 с использованием векторизации.\n"
      ]
    },
    {
      "cell_type": "code",
      "execution_count": 43,
      "metadata": {
        "colab": {
          "base_uri": "https://localhost:8080/"
        },
        "id": "1SlVLPWkg21j",
        "outputId": "fa42ad3a-36a2-4b3b-880a-cae9fbf389ac"
      },
      "outputs": [
        {
          "output_type": "stream",
          "name": "stdout",
          "text": [
            "[[49  1  9 49  9 81 36 36 64  9]]\n"
          ]
        }
      ],
      "source": [
        "j = np.random.randint(0, 10, [1,10])\n",
        "J = j**2\n",
        "print(J)"
      ]
    },
    {
      "cell_type": "code",
      "execution_count": 44,
      "metadata": {
        "colab": {
          "base_uri": "https://localhost:8080/"
        },
        "id": "IEd0sI6sg21j",
        "outputId": "ef676f84-c909-46d1-e0ba-ec9aee519195"
      },
      "outputs": [
        {
          "output_type": "stream",
          "name": "stdout",
          "text": [
            "[[ 1  9 36 64  9 25 25 64 36 64]]\n"
          ]
        }
      ],
      "source": [
        "l = A**2\n",
        "print(l)"
      ]
    },
    {
      "cell_type": "markdown",
      "metadata": {
        "id": "gVVTmWMLg21j"
      },
      "source": [
        "\n",
        "## Статистика\n",
        "24. Посчитайте медиану элементов массива из задачи 1, используя функцию `np.median()`.\n",
        "\n",
        "25. Найдите стандартное отклонение значений в каждой строке массива из задачи 2, используя функцию `np.std()`."
      ]
    },
    {
      "cell_type": "code",
      "execution_count": 45,
      "metadata": {
        "colab": {
          "base_uri": "https://localhost:8080/"
        },
        "id": "hheec3MJg21j",
        "outputId": "cd6516de-c57c-4783-ea62-19ce9f7129f9"
      },
      "outputs": [
        {
          "output_type": "stream",
          "name": "stdout",
          "text": [
            "5.5\n"
          ]
        }
      ],
      "source": [
        "L = np.median(A)\n",
        "print(L)"
      ]
    },
    {
      "cell_type": "code",
      "execution_count": 46,
      "metadata": {
        "colab": {
          "base_uri": "https://localhost:8080/"
        },
        "id": "T1otJdlfg21j",
        "outputId": "9efe2c98-6179-4626-de13-b783ccf0707c"
      },
      "outputs": [
        {
          "output_type": "stream",
          "name": "stdout",
          "text": [
            "2.5579698740491863\n"
          ]
        }
      ],
      "source": [
        "N = np.std(B)\n",
        "print(N)"
      ]
    }
  ],
  "metadata": {
    "kernelspec": {
      "display_name": "Python 3",
      "language": "python",
      "name": "python3"
    },
    "language_info": {
      "codemirror_mode": {
        "name": "ipython",
        "version": 3
      },
      "file_extension": ".py",
      "mimetype": "text/x-python",
      "name": "python",
      "nbconvert_exporter": "python",
      "pygments_lexer": "ipython3",
      "version": "3.10.6"
    },
    "colab": {
      "provenance": [],
      "include_colab_link": true
    }
  },
  "nbformat": 4,
  "nbformat_minor": 0
}