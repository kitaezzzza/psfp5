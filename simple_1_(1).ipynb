{
  "cells": [
    {
      "cell_type": "markdown",
      "metadata": {
        "id": "view-in-github",
        "colab_type": "text"
      },
      "source": [
        "<a href=\"https://colab.research.google.com/github/kitaezzzza/psfp5/blob/main/simple_1_(1).ipynb\" target=\"_parent\"><img src=\"https://colab.research.google.com/assets/colab-badge.svg\" alt=\"Open In Colab\"/></a>"
      ]
    },
    {
      "cell_type": "code",
      "execution_count": null,
      "metadata": {
        "id": "vYuV45Bdg21b"
      },
      "outputs": [],
      "source": [
        "import numpy as np"
      ]
    },
    {
      "cell_type": "markdown",
      "metadata": {
        "id": "mgCgiMNKg21d"
      },
      "source": [
        "# Анализ данных с использованием библиотеки NumPy\n",
        "\n",
        "## Создание массивов\n",
        "1. Создайте одномерный массив из 10 случайных чисел.\n",
        "\n",
        "2. Создайте двумерный массив размером 3x3, содержащий случайные числа.\n",
        "\n",
        "3. Создайте массив с числами от 1 до 20 включительно с шагом 2.\n"
      ]
    },
    {
      "cell_type": "code",
      "execution_count": null,
      "metadata": {
        "colab": {
          "base_uri": "https://localhost:8080/"
        },
        "id": "ZnIJkByog21f",
        "outputId": "8a1bfd56-3d77-430f-aa2e-ea6a17890d5c"
      },
      "outputs": [
        {
          "output_type": "stream",
          "name": "stdout",
          "text": [
            "[[5 8 4 9 3 0 5 2 5 4]]\n"
          ]
        }
      ],
      "source": [
        "A = np.random.randint(0, 10, [1,10])\n",
        "print(A)"
      ]
    },
    {
      "cell_type": "code",
      "execution_count": null,
      "metadata": {
        "colab": {
          "base_uri": "https://localhost:8080/"
        },
        "id": "GIJSC1MAg21f",
        "outputId": "4f7bb758-7bcf-4b68-a44f-a2a3d02fe4b2"
      },
      "outputs": [
        {
          "output_type": "stream",
          "name": "stdout",
          "text": [
            "[[0 8 9]\n",
            " [0 9 1]\n",
            " [1 2 6]]\n"
          ]
        }
      ],
      "source": [
        "B = np.random.randint(0, 10,[3,3])\n",
        "print(B)"
      ]
    },
    {
      "cell_type": "code",
      "execution_count": null,
      "metadata": {
        "colab": {
          "base_uri": "https://localhost:8080/"
        },
        "id": "Xzni1pSng21g",
        "outputId": "43ccb4d2-6209-4aca-cd93-18e389a50b29"
      },
      "outputs": [
        {
          "output_type": "stream",
          "name": "stdout",
          "text": [
            "[ 1  3  5  7  9 11 13 15 17 19]\n"
          ]
        }
      ],
      "source": [
        "C = np.arange(1,20,2)\n",
        "print(C)"
      ]
    },
    {
      "cell_type": "markdown",
      "metadata": {
        "id": "bQY0lMjmg21g"
      },
      "source": [
        "\n",
        "## Информация о массиве\n",
        "4. Выведите форму (размер) массива из задачи 2, используя атрибут `shape`.\n",
        "\n",
        "5. Определите тип данных элементов массива из задачи 3, используя атрибут `dtype`.\n"
      ]
    },
    {
      "cell_type": "code",
      "execution_count": null,
      "metadata": {
        "colab": {
          "base_uri": "https://localhost:8080/"
        },
        "id": "xmPTvWaTg21g",
        "outputId": "79fa47d3-1da0-48ad-c0dc-7d061d7dac96"
      },
      "outputs": [
        {
          "output_type": "execute_result",
          "data": {
            "text/plain": [
              "(3, 3)"
            ]
          },
          "metadata": {},
          "execution_count": 175
        }
      ],
      "source": [
        "np.shape(B)"
      ]
    },
    {
      "cell_type": "code",
      "execution_count": null,
      "metadata": {
        "id": "9CBc3TKTg21g"
      },
      "outputs": [],
      "source": []
    },
    {
      "cell_type": "markdown",
      "metadata": {
        "id": "XtUkM1oNg21g"
      },
      "source": [
        "\n",
        "## Операции с массивами\n",
        "6. Умножьте каждый элемент массива из задачи 1 на 3.\n",
        "\n",
        "7. Посчитайте сумму элементов массива из задачи 2 по каждой оси, используя функцию `np.sum()`.\n"
      ]
    },
    {
      "cell_type": "code",
      "execution_count": null,
      "metadata": {
        "colab": {
          "base_uri": "https://localhost:8080/"
        },
        "id": "luPnNxVqg21g",
        "outputId": "15e01db6-f00d-4076-d076-ac6d3a1683e7"
      },
      "outputs": [
        {
          "output_type": "stream",
          "name": "stdout",
          "text": [
            "[[ 9 12 24 24 21 15 15 12 15  9]]\n"
          ]
        }
      ],
      "source": [
        "Y = A*3\n",
        "print(Y)"
      ]
    },
    {
      "cell_type": "code",
      "execution_count": null,
      "metadata": {
        "colab": {
          "base_uri": "https://localhost:8080/"
        },
        "id": "ngSo8hvhg21g",
        "outputId": "a3e97f37-9c42-4e03-ec3f-e93308d038b8"
      },
      "outputs": [
        {
          "output_type": "stream",
          "name": "stdout",
          "text": [
            "49\n"
          ]
        }
      ],
      "source": [
        "S = np.sum(B)\n",
        "print(S)"
      ]
    },
    {
      "cell_type": "markdown",
      "metadata": {
        "id": "uR9g-bVMg21g"
      },
      "source": [
        "\n",
        "## Индексация и срезы\n",
        "8. Получите элемент из середины массива из задачи 1.\n",
        "\n",
        "9. Выделите подматрицу размером 2x2 из массива задачи 2.\n"
      ]
    },
    {
      "cell_type": "code",
      "execution_count": null,
      "metadata": {
        "colab": {
          "base_uri": "https://localhost:8080/"
        },
        "id": "j1R_61otg21h",
        "outputId": "a5a3f8c8-2f6d-4ea2-a6fb-8fd2050937e6"
      },
      "outputs": [
        {
          "output_type": "stream",
          "name": "stdout",
          "text": [
            "3\n"
          ]
        }
      ],
      "source": [
        "m = a[0, A.shape[1] // 2]\n",
        "\n",
        "print(m)"
      ]
    },
    {
      "cell_type": "code",
      "source": [
        "\n"
      ],
      "metadata": {
        "colab": {
          "base_uri": "https://localhost:8080/",
          "height": 193
        },
        "id": "IZs98Yo9GCPq",
        "outputId": "ff6f2d92-82db-44d1-c568-5417071ef87c"
      },
      "execution_count": null,
      "outputs": [
        {
          "output_type": "error",
          "ename": "ValueError",
          "evalue": "The truth value of an array with more than one element is ambiguous. Use a.any() or a.all()",
          "traceback": [
            "\u001b[0;31m---------------------------------------------------------------------------\u001b[0m",
            "\u001b[0;31mValueError\u001b[0m                                Traceback (most recent call last)",
            "\u001b[0;32m<ipython-input-197-d53724de7f0b>\u001b[0m in \u001b[0;36m<cell line: 1>\u001b[0;34m()\u001b[0m\n\u001b[0;32m----> 1\u001b[0;31m \u001b[0mY\u001b[0m \u001b[0;34m=\u001b[0m \u001b[0mnp\u001b[0m\u001b[0;34m.\u001b[0m\u001b[0marange\u001b[0m\u001b[0;34m(\u001b[0m\u001b[0mB\u001b[0m\u001b[0;34m)\u001b[0m\u001b[0;34m.\u001b[0m\u001b[0mreshape\u001b[0m\u001b[0;34m(\u001b[0m\u001b[0;36m2\u001b[0m\u001b[0;34m,\u001b[0m\u001b[0;36m2\u001b[0m\u001b[0;34m)\u001b[0m\u001b[0;34m\u001b[0m\u001b[0;34m\u001b[0m\u001b[0m\n\u001b[0m\u001b[1;32m      2\u001b[0m \u001b[0mY\u001b[0m\u001b[0;34m[\u001b[0m\u001b[0mnp\u001b[0m\u001b[0;34m.\u001b[0m\u001b[0mix_\u001b[0m\u001b[0;34m(\u001b[0m\u001b[0;34m[\u001b[0m\u001b[0;36m0\u001b[0m\u001b[0;34m,\u001b[0m\u001b[0;36m3\u001b[0m\u001b[0;34m]\u001b[0m\u001b[0;34m,\u001b[0m\u001b[0;34m[\u001b[0m\u001b[0;36m0\u001b[0m\u001b[0;34m,\u001b[0m\u001b[0;36m3\u001b[0m\u001b[0;34m]\u001b[0m\u001b[0;34m)\u001b[0m\u001b[0;34m]\u001b[0m\u001b[0;34m\u001b[0m\u001b[0;34m\u001b[0m\u001b[0m\n",
            "\u001b[0;31mValueError\u001b[0m: The truth value of an array with more than one element is ambiguous. Use a.any() or a.all()"
          ]
        }
      ]
    },
    {
      "cell_type": "markdown",
      "metadata": {
        "id": "X-hTyjXrg21h"
      },
      "source": [
        "\n",
        "## Статистика и агрегация\n",
        "10. Найдите среднее значение всех элементов массива из задачи 1, используя функцию `np.mean()`.\n",
        "\n",
        "11. Найдите максимальное значение в каждой строке массива из задачи 2, используя функцию `np.max()`.\n"
      ]
    },
    {
      "cell_type": "code",
      "execution_count": null,
      "metadata": {
        "colab": {
          "base_uri": "https://localhost:8080/"
        },
        "id": "IHPlzWU3g21h",
        "outputId": "ae75e1ac-1651-43c4-db79-102602f650cb"
      },
      "outputs": [
        {
          "output_type": "stream",
          "name": "stdout",
          "text": [
            "5.2\n"
          ]
        }
      ],
      "source": [
        "X = np.mean(A)\n",
        "print(X)"
      ]
    },
    {
      "cell_type": "code",
      "execution_count": null,
      "metadata": {
        "colab": {
          "base_uri": "https://localhost:8080/"
        },
        "id": "T5Rjfy0Hg21h",
        "outputId": "67a8f4a1-0b9b-425a-e2b7-db5f98edd184"
      },
      "outputs": [
        {
          "output_type": "stream",
          "name": "stdout",
          "text": [
            "8\n"
          ]
        }
      ],
      "source": [
        "Z = np.max(B)\n",
        "print(Z)"
      ]
    },
    {
      "cell_type": "markdown",
      "metadata": {
        "id": "x80f4Y10g21h"
      },
      "source": [
        "\n",
        "## Логические операции\n",
        "12. Создайте логический массив, проверяющий, какие элементы массива из задачи 1 больше 5.\n",
        "\n",
        "13. Получите только те элементы массива из задачи 3, которые делятся на 3 без остатка.\n"
      ]
    },
    {
      "cell_type": "code",
      "execution_count": null,
      "metadata": {
        "colab": {
          "base_uri": "https://localhost:8080/"
        },
        "id": "-_8j7Rvhg21h",
        "outputId": "61234468-c6b4-4eec-ca66-c9da2de959f2"
      },
      "outputs": [
        {
          "output_type": "stream",
          "name": "stdout",
          "text": [
            "[[False False  True  True  True False False False False False]]\n"
          ]
        }
      ],
      "source": [
        "V = A>5\n",
        "print(V)"
      ]
    },
    {
      "cell_type": "code",
      "execution_count": null,
      "metadata": {
        "colab": {
          "base_uri": "https://localhost:8080/"
        },
        "id": "ZupnEBCwg21h",
        "outputId": "b6f21ead-c170-4c0a-99b0-9fa19b76e1b2"
      },
      "outputs": [
        {
          "output_type": "stream",
          "name": "stdout",
          "text": [
            "[0.33333333 1.         1.66666667 2.33333333 3.         3.66666667\n",
            " 4.33333333 5.         5.66666667 6.33333333]\n"
          ]
        }
      ],
      "source": [
        "z = C/3\n",
        "print(z)"
      ]
    },
    {
      "cell_type": "markdown",
      "metadata": {
        "id": "9JWpuEq_g21i"
      },
      "source": [
        "\n",
        "## Работа с формой массива\n",
        "14. Преобразуйте одномерный массив из задачи 1 в двумерный массив размером 2x5, используя метод `reshape()`.\n",
        "\n",
        "15. Транспонируйте массив из задачи 2, используя метод `T`.\n"
      ]
    },
    {
      "cell_type": "code",
      "execution_count": null,
      "metadata": {
        "colab": {
          "base_uri": "https://localhost:8080/"
        },
        "id": "Tk5uGRTrg21i",
        "outputId": "705ab884-c66d-4820-cce5-8ae6a9cdb0e0"
      },
      "outputs": [
        {
          "output_type": "stream",
          "name": "stdout",
          "text": [
            "[[3 4 8 8 7]\n",
            " [5 5 4 5 3]]\n"
          ]
        }
      ],
      "source": [
        "F = np.reshape(A,[2,5])\n",
        "print(F)"
      ]
    },
    {
      "cell_type": "code",
      "execution_count": null,
      "metadata": {
        "id": "3j_SLVEig21i"
      },
      "outputs": [],
      "source": []
    },
    {
      "cell_type": "markdown",
      "metadata": {
        "id": "--tftXYXg21i"
      },
      "source": [
        "\n",
        "## Сортировка и индексация\n",
        "16. Отсортируйте элементы массива из задачи 1 по убыванию, используя функцию `np.sort()`.\n",
        "\n",
        "17. Найдите индексы минимальных значений в каждом столбце массива из задачи 2, используя функцию `np.argmin()`.\n"
      ]
    },
    {
      "cell_type": "code",
      "execution_count": null,
      "metadata": {
        "colab": {
          "base_uri": "https://localhost:8080/"
        },
        "id": "4ZuJ1o1Ig21i",
        "outputId": "4f054eec-515b-4e84-c355-449e4fcd601c"
      },
      "outputs": [
        {
          "output_type": "stream",
          "name": "stdout",
          "text": [
            "[[9 8 5 5 5 4 4 3 2 0]]\n"
          ]
        }
      ],
      "source": [
        "a = np.sort(-A)\n",
        "print(-a)"
      ]
    },
    {
      "cell_type": "code",
      "execution_count": null,
      "metadata": {
        "colab": {
          "base_uri": "https://localhost:8080/"
        },
        "id": "b0kGtS0wg21i",
        "outputId": "5aa5c5c5-4827-452d-ba3f-881c5f6e9ed7"
      },
      "outputs": [
        {
          "output_type": "stream",
          "name": "stdout",
          "text": [
            "3\n"
          ]
        }
      ],
      "source": [
        "b = np.argmin(B)\n",
        "print(b)"
      ]
    },
    {
      "cell_type": "markdown",
      "metadata": {
        "id": "BQkMpx3bg21i"
      },
      "source": [
        "\n",
        "## Уникальные значения\n",
        "18. Найдите уникальные значения в массиве из задачи 1, используя функцию `np.unique()`.\n",
        "\n",
        "19. Посчитайте количество повторяющихся элементов в массиве из задачи 3, используя функцию `np.bincount()`.\n"
      ]
    },
    {
      "cell_type": "code",
      "execution_count": null,
      "metadata": {
        "colab": {
          "base_uri": "https://localhost:8080/"
        },
        "id": "JXkMnwG5g21i",
        "outputId": "61105171-f6ae-4ab4-9e19-1c80f17d6058"
      },
      "outputs": [
        {
          "output_type": "stream",
          "name": "stdout",
          "text": [
            "[0 1 2 3 4 5 8]\n"
          ]
        }
      ],
      "source": [
        "c = np.unique(A)\n",
        "print(c)"
      ]
    },
    {
      "cell_type": "code",
      "execution_count": null,
      "metadata": {
        "colab": {
          "base_uri": "https://localhost:8080/"
        },
        "id": "rrGCb49kg21i",
        "outputId": "2ce381f5-340b-4b3d-8025-083a0642d71a"
      },
      "outputs": [
        {
          "output_type": "stream",
          "name": "stdout",
          "text": [
            "[0 1 0 1 0 1 0 1 0 1 0 1 0 1 0 1 0 1 0 1]\n"
          ]
        }
      ],
      "source": [
        "d = np.bincount(C)\n",
        "print(d)"
      ]
    },
    {
      "cell_type": "markdown",
      "metadata": {
        "id": "KIyEI-kcg21i"
      },
      "source": [
        "\n",
        "## Линейная алгебра\n",
        "20. Выполните матричное умножение двух массивов размером 3x3 из задачи 2, используя функцию `np.dot()`.\n",
        "\n",
        "21. Решите систему линейных уравнений: `2x + y = 8` и `3x - y = 1`, используя функцию `np.linalg.solve()`.\n"
      ]
    },
    {
      "cell_type": "code",
      "execution_count": null,
      "metadata": {
        "colab": {
          "base_uri": "https://localhost:8080/"
        },
        "id": "NrVrxp81g21i",
        "outputId": "5ba5bace-bf9a-4218-ea0e-ff2317cea9dc"
      },
      "outputs": [
        {
          "output_type": "stream",
          "name": "stdout",
          "text": [
            "[[ 9 90 62]\n",
            " [ 1 83 15]\n",
            " [ 6 38 47]]\n"
          ]
        }
      ],
      "source": [
        "h = np.dot(B,B)\n",
        "print(h)"
      ]
    },
    {
      "cell_type": "code",
      "execution_count": null,
      "metadata": {
        "id": "rdfbiHnRg21i"
      },
      "outputs": [],
      "source": []
    },
    {
      "cell_type": "markdown",
      "metadata": {
        "id": "GtG1p-89g21j"
      },
      "source": [
        "\n",
        "## Векторизация\n",
        "22. Создайте функцию, которая принимает на вход массив и возвращает новый массив, содержащий квадраты элементов входного массива.\n",
        "\n",
        "23. Примените функцию из задачи 22 к массиву из задачи 1 с использованием векторизации.\n"
      ]
    },
    {
      "cell_type": "code",
      "execution_count": null,
      "metadata": {
        "colab": {
          "base_uri": "https://localhost:8080/"
        },
        "id": "1SlVLPWkg21j",
        "outputId": "85de5f42-b2b6-41e3-c52f-0403b9d2012e"
      },
      "outputs": [
        {
          "output_type": "stream",
          "name": "stdout",
          "text": [
            "[[ 4  9 81 16  9  1 64 64 16 36]]\n"
          ]
        }
      ],
      "source": [
        "j = np.random.randint(0, 10, [1,10])\n",
        "J = j**2\n",
        "print(J)"
      ]
    },
    {
      "cell_type": "code",
      "execution_count": null,
      "metadata": {
        "colab": {
          "base_uri": "https://localhost:8080/"
        },
        "id": "IEd0sI6sg21j",
        "outputId": "4c584de0-0d34-490e-f8bd-526aac26b01f"
      },
      "outputs": [
        {
          "output_type": "stream",
          "name": "stdout",
          "text": [
            "[[16  4 16 16 64  4  9 25  1  0]]\n"
          ]
        }
      ],
      "source": [
        "l = A**2\n",
        "print(l)"
      ]
    },
    {
      "cell_type": "markdown",
      "metadata": {
        "id": "gVVTmWMLg21j"
      },
      "source": [
        "\n",
        "## Статистика\n",
        "24. Посчитайте медиану элементов массива из задачи 1, используя функцию `np.median()`.\n",
        "\n",
        "25. Найдите стандартное отклонение значений в каждой строке массива из задачи 2, используя функцию `np.std()`."
      ]
    },
    {
      "cell_type": "code",
      "execution_count": null,
      "metadata": {
        "colab": {
          "base_uri": "https://localhost:8080/"
        },
        "id": "hheec3MJg21j",
        "outputId": "89664081-984e-4b30-d04c-d4597a506ccb"
      },
      "outputs": [
        {
          "output_type": "stream",
          "name": "stdout",
          "text": [
            "3.5\n"
          ]
        }
      ],
      "source": [
        "L = np.median(A)\n",
        "print(L)"
      ]
    },
    {
      "cell_type": "code",
      "execution_count": null,
      "metadata": {
        "colab": {
          "base_uri": "https://localhost:8080/"
        },
        "id": "T1otJdlfg21j",
        "outputId": "fae163be-0c4f-4880-c942-c8c82fbb4106"
      },
      "outputs": [
        {
          "output_type": "stream",
          "name": "stdout",
          "text": [
            "1.640535895581489\n"
          ]
        }
      ],
      "source": [
        "N = np.std(B)\n",
        "print(N)"
      ]
    }
  ],
  "metadata": {
    "kernelspec": {
      "display_name": "Python 3",
      "language": "python",
      "name": "python3"
    },
    "language_info": {
      "codemirror_mode": {
        "name": "ipython",
        "version": 3
      },
      "file_extension": ".py",
      "mimetype": "text/x-python",
      "name": "python",
      "nbconvert_exporter": "python",
      "pygments_lexer": "ipython3",
      "version": "3.10.6"
    },
    "colab": {
      "provenance": [],
      "include_colab_link": true
    }
  },
  "nbformat": 4,
  "nbformat_minor": 0
}